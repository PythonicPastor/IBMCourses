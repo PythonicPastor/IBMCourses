{
 "cells": [
  {
   "cell_type": "markdown",
   "id": "663d2aec-0c69-4b17-8ee9-bb54520bb491",
   "metadata": {},
   "source": [
    "## Simple Linear Regression"
   ]
  },
  {
   "cell_type": "code",
   "execution_count": 4,
   "id": "e99fa5f8-4630-4d0b-87ae-f3fe54ced4fe",
   "metadata": {},
   "outputs": [],
   "source": [
    "from sklearn.linear_model import LinearRegression\n",
    "lm =LinearRegression()\n",
    "X=df[['peram']]\n",
    "Y=df['Xmpl_Feat_Predict_to']\n",
    "\n",
    "lm.fit(X,Y)\n",
    "Yhat=lm.predict(X)\n",
    "lm.intercept_ - lm.coef * df[['peram']]"
   ]
  },
  {
   "cell_type": "markdown",
   "id": "211ad9e2-d4f8-4443-a3ad-c5e48430e1e4",
   "metadata": {},
   "source": [
    "## Multi-Linear Regression"
   ]
  },
  {
   "cell_type": "code",
   "execution_count": null,
   "id": "3ec73308-f37a-4eb3-952a-eda04a1b729b",
   "metadata": {},
   "outputs": [],
   "source": [
    "from sklearn.linear_model import LinearRegression\n",
    "lm =LinearRegression()\n",
    "z=df[['peram', 'peram2', 'peram3']]\n",
    "Y=df['Est_out']\n",
    "\n",
    "lm.fit(z,df['Est_out'])\n",
    "Yhat=lm.predict(X)\n",
    "linModel=[]\n",
    "for i in z:\n",
    "    lin_model = lm.append(lm.intercept_ + lm.coef[i] * z[i])"
   ]
  }
 ],
 "metadata": {
  "kernelspec": {
   "display_name": "Python 3 (ipykernel)",
   "language": "python",
   "name": "python3"
  },
  "language_info": {
   "codemirror_mode": {
    "name": "ipython",
    "version": 3
   },
   "file_extension": ".py",
   "mimetype": "text/x-python",
   "name": "python",
   "nbconvert_exporter": "python",
   "pygments_lexer": "ipython3",
   "version": "3.10.2"
  }
 },
 "nbformat": 4,
 "nbformat_minor": 5
}
