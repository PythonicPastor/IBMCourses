{
 "cells": [
  {
   "cell_type": "code",
   "execution_count": 2,
   "id": "716f922e-09cc-4b10-b688-fcfa839665bc",
   "metadata": {},
   "outputs": [
    {
     "name": "stderr",
     "output_type": "stream",
     "text": [
      "C:\\Users\\simpl\\AppData\\Local\\Programs\\Python\\Python310\\lib\\site-packages\\pandas\\io\\sql.py:761: UserWarning: pandas only support SQLAlchemy connectable(engine/connection) ordatabase string URI or sqlite3 DBAPI2 connectionother DBAPI2 objects are not tested, please consider using SQLAlchemy\n",
      "  warnings.warn(\n"
     ]
    },
    {
     "name": "stdout",
     "output_type": "stream",
     "text": [
      "Extracted to dataframe.\n"
     ]
    }
   ],
   "source": [
    "import loadIBM as ibm\n",
    "#departments, employees, instructor,\n",
    "#jobs, job_history, locations\n",
    "#petrescue, petsale\n",
    "querySelect = \"SELECT * FROM petsale\"\n",
    "\n",
    "df = ibm.loadData(querySelect,\n",
    "              \"rrf19314\",\n",
    "              \"LisSXUFYqb5DxlmA\",\n",
    "              \"ba99a9e6-d59e-4883-8fc0-d6a8c9f7a08f.c1ogj3sd0tgtu0lqde00.databases.appdomain.cloud\",\n",
    "              \"31321\")"
   ]
  },
  {
   "cell_type": "code",
   "execution_count": 3,
   "id": "08ac2905-93ee-4d2a-bde9-55ef0c54f168",
   "metadata": {},
   "outputs": [
    {
     "name": "stdout",
     "output_type": "stream",
     "text": [
      "0    Cat                 \n",
      "1    Dog                 \n",
      "2    Parrot              \n",
      "3    Hamster             \n",
      "4    Goldfish            \n",
      "Name: ANIMAL, dtype: object 0    450.09\n",
      "1    666.66\n",
      "2     50.00\n",
      "3     60.60\n",
      "4     48.48\n",
      "Name: SALEPRICE, dtype: float64\n"
     ]
    }
   ],
   "source": [
    "print(df['ANIMAL'], df['SALEPRICE'])"
   ]
  },
  {
   "cell_type": "code",
   "execution_count": 4,
   "id": "1e3e3d0c-bb65-4cea-bdf1-372b16bb5e14",
   "metadata": {},
   "outputs": [
    {
     "name": "stderr",
     "output_type": "stream",
     "text": [
      "C:\\Users\\simpl\\AppData\\Local\\Programs\\Python\\Python310\\lib\\site-packages\\pandas\\io\\sql.py:761: UserWarning: pandas only support SQLAlchemy connectable(engine/connection) ordatabase string URI or sqlite3 DBAPI2 connectionother DBAPI2 objects are not tested, please consider using SQLAlchemy\n",
      "  warnings.warn(\n"
     ]
    },
    {
     "name": "stdout",
     "output_type": "stream",
     "text": [
      "Extracted to dataframe.\n"
     ]
    },
    {
     "data": {
      "text/html": [
       "<div>\n",
       "<style scoped>\n",
       "    .dataframe tbody tr th:only-of-type {\n",
       "        vertical-align: middle;\n",
       "    }\n",
       "\n",
       "    .dataframe tbody tr th {\n",
       "        vertical-align: top;\n",
       "    }\n",
       "\n",
       "    .dataframe thead th {\n",
       "        text-align: right;\n",
       "    }\n",
       "</style>\n",
       "<table border=\"1\" class=\"dataframe\">\n",
       "  <thead>\n",
       "    <tr style=\"text-align: right;\">\n",
       "      <th></th>\n",
       "      <th>TABSCHEMA</th>\n",
       "      <th>TABNAME</th>\n",
       "      <th>CREATE_TIME</th>\n",
       "    </tr>\n",
       "  </thead>\n",
       "  <tbody>\n",
       "    <tr>\n",
       "      <th>0</th>\n",
       "      <td>RRF19314</td>\n",
       "      <td>PETSALE</td>\n",
       "      <td>2022-07-31 02:50:29.900135</td>\n",
       "    </tr>\n",
       "    <tr>\n",
       "      <th>1</th>\n",
       "      <td>RRF19314</td>\n",
       "      <td>PETRESCUE</td>\n",
       "      <td>2022-08-01 09:17:57.752067</td>\n",
       "    </tr>\n",
       "    <tr>\n",
       "      <th>2</th>\n",
       "      <td>RRF19314</td>\n",
       "      <td>EMPLOYEES</td>\n",
       "      <td>2022-08-02 09:36:53.935511</td>\n",
       "    </tr>\n",
       "    <tr>\n",
       "      <th>3</th>\n",
       "      <td>RRF19314</td>\n",
       "      <td>JOB_HISTORY</td>\n",
       "      <td>2022-08-02 09:36:54.096791</td>\n",
       "    </tr>\n",
       "    <tr>\n",
       "      <th>4</th>\n",
       "      <td>RRF19314</td>\n",
       "      <td>JOBS</td>\n",
       "      <td>2022-08-02 09:36:54.266100</td>\n",
       "    </tr>\n",
       "    <tr>\n",
       "      <th>5</th>\n",
       "      <td>RRF19314</td>\n",
       "      <td>DEPARTMENTS</td>\n",
       "      <td>2022-08-02 09:36:54.426472</td>\n",
       "    </tr>\n",
       "    <tr>\n",
       "      <th>6</th>\n",
       "      <td>RRF19314</td>\n",
       "      <td>LOCATIONS</td>\n",
       "      <td>2022-08-02 09:36:54.589572</td>\n",
       "    </tr>\n",
       "    <tr>\n",
       "      <th>7</th>\n",
       "      <td>RRF19314</td>\n",
       "      <td>INSTRUCTOR</td>\n",
       "      <td>2022-08-03 17:47:08.868245</td>\n",
       "    </tr>\n",
       "    <tr>\n",
       "      <th>8</th>\n",
       "      <td>RRF19314</td>\n",
       "      <td>CENSUS_DATA</td>\n",
       "      <td>2022-08-05 22:23:16.646243</td>\n",
       "    </tr>\n",
       "    <tr>\n",
       "      <th>9</th>\n",
       "      <td>RRF19314</td>\n",
       "      <td>CHICAGO_CRIME_DATA</td>\n",
       "      <td>2022-08-05 22:24:23.952807</td>\n",
       "    </tr>\n",
       "    <tr>\n",
       "      <th>10</th>\n",
       "      <td>RRF19314</td>\n",
       "      <td>CHICAGO_PUBLIC_SCHOOLS</td>\n",
       "      <td>2022-08-05 22:29:36.114340</td>\n",
       "    </tr>\n",
       "  </tbody>\n",
       "</table>\n",
       "</div>"
      ],
      "text/plain": [
       "   TABSCHEMA                 TABNAME                CREATE_TIME\n",
       "0   RRF19314                 PETSALE 2022-07-31 02:50:29.900135\n",
       "1   RRF19314               PETRESCUE 2022-08-01 09:17:57.752067\n",
       "2   RRF19314               EMPLOYEES 2022-08-02 09:36:53.935511\n",
       "3   RRF19314             JOB_HISTORY 2022-08-02 09:36:54.096791\n",
       "4   RRF19314                    JOBS 2022-08-02 09:36:54.266100\n",
       "5   RRF19314             DEPARTMENTS 2022-08-02 09:36:54.426472\n",
       "6   RRF19314               LOCATIONS 2022-08-02 09:36:54.589572\n",
       "7   RRF19314              INSTRUCTOR 2022-08-03 17:47:08.868245\n",
       "8   RRF19314             CENSUS_DATA 2022-08-05 22:23:16.646243\n",
       "9   RRF19314      CHICAGO_CRIME_DATA 2022-08-05 22:24:23.952807\n",
       "10  RRF19314  CHICAGO_PUBLIC_SCHOOLS 2022-08-05 22:29:36.114340"
      ]
     },
     "execution_count": 4,
     "metadata": {},
     "output_type": "execute_result"
    }
   ],
   "source": [
    "queryTables = \"select TABSCHEMA, TABNAME, CREATE_TIME from syscat.tables where tabschema ='RRF19314'\"\n",
    "\n",
    "tableTable = ibm.loadData(queryTables,\n",
    "              \"rrf19314\",\n",
    "              \"LisSXUFYqb5DxlmA\",\n",
    "              \"ba99a9e6-d59e-4883-8fc0-d6a8c9f7a08f.c1ogj3sd0tgtu0lqde00.databases.appdomain.cloud\",\n",
    "              \"31321\")\n",
    "tableTable"
   ]
  },
  {
   "cell_type": "code",
   "execution_count": null,
   "id": "195a301e-d53c-4551-bb1e-22daaf0e208f",
   "metadata": {},
   "outputs": [],
   "source": []
  }
 ],
 "metadata": {
  "kernelspec": {
   "display_name": "Python 3 (ipykernel)",
   "language": "python",
   "name": "python3"
  },
  "language_info": {
   "codemirror_mode": {
    "name": "ipython",
    "version": 3
   },
   "file_extension": ".py",
   "mimetype": "text/x-python",
   "name": "python",
   "nbconvert_exporter": "python",
   "pygments_lexer": "ipython3",
   "version": "3.10.2"
  }
 },
 "nbformat": 4,
 "nbformat_minor": 5
}
